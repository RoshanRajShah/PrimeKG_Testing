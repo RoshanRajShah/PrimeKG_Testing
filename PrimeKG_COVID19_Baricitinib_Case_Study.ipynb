{
 "cells": [
  {
   "cell_type": "markdown",
   "id": "354838fe",
   "metadata": {},
   "source": [
    "# PrimeKG Case Study — COVID‑19 → Baricitinib\n",
    "\n",
    "This notebook adapts the Autism case study workflow to **COVID‑19** and traces mechanistic connections to the repurposed drug **Baricitinib**.\n",
    "\n",
    "**What this notebook does**\n",
    "- Load the PrimeKG CSV (`kg.csv`).\n",
    "- Identify COVID‑19 disease nodes and **Baricitinib** drug nodes.\n",
    "- Summarize connected phenotypes, proteins (e.g., **AAK1, GAK, JAK1/2**), and pathways (e.g., **endocytosis, cytokine signaling**).\n",
    "- Compute shortest paths between COVID‑19 and Baricitinib and visualize a focused subgraph.\n",
    "- (Optional) Run a small **permutation test** to compare shortest-path distance to random diseases (mini version of the paper’s approach).\n",
    "\n",
    "> Tip: Place `kg.csv` in the same directory as this notebook (or change `KG_PATH` below).\n"
   ]
  },
  {
   "cell_type": "code",
   "execution_count": 1,
   "id": "5132f4da",
   "metadata": {},
   "outputs": [
    {
     "name": "stdout",
     "output_type": "stream",
     "text": [
      "[INFO] Imports ready.\n"
     ]
    }
   ],
   "source": [
    "# --- Parameters ---\n",
    "KG_PATH = \"kg.csv\"\n",
    "DISEASE_KEYWORDS = [\"covid\", \"sars-cov-2\", \"coronavirus disease 2019\"]\n",
    "TARGET_DRUG = \"baricitinib\"\n",
    "EGO_RADIUS = 2          # radius for ego-subgraph around key nodes\n",
    "MAX_EDGES = 1_000_000   # cap (informational only)\n",
    "N_RANDOM = 100          # number of random diseases for permutation test (keep modest)\n",
    "RANDOM_SEED = 42\n",
    "\n",
    "import pandas as pd\n",
    "import networkx as nx\n",
    "import matplotlib.pyplot as plt\n",
    "import numpy as np\n",
    "from collections import defaultdict, Counter\n",
    "import random\n",
    "import time\n",
    "\n",
    "pd.set_option(\"display.max_colwidth\", 160)\n",
    "random.seed(RANDOM_SEED)\n",
    "np.random.seed(RANDOM_SEED)\n",
    "\n",
    "def t0():\n",
    "    s = time.time()\n",
    "    return lambda: f\"{time.time()-s:,.1f}s\"\n",
    "\n",
    "print(\"[INFO] Imports ready.\")\n",
    "timer = t0()"
   ]
  },
  {
   "cell_type": "code",
   "execution_count": null,
   "id": "7eefb73e",
   "metadata": {},
   "outputs": [
    {
     "name": "stdout",
     "output_type": "stream",
     "text": [
      "[INFO] Loading PrimeKG...\n"
     ]
    },
    {
     "name": "stderr",
     "output_type": "stream",
     "text": [
      "/tmp/ipykernel_53965/2502922099.py:2: DtypeWarning: Columns (3,8) have mixed types. Specify dtype option on import or set low_memory=False.\n",
      "  kg = pd.read_csv(KG_PATH)\n"
     ]
    }
   ],
   "source": [
    "print(\"[INFO] Loading PrimeKG...\")\n",
    "kg = pd.read_csv(KG_PATH)\n",
    "print(kg.head())\n",
    "print(\"[INFO] Columns:\", list(kg.columns))\n",
    "print(\"[INFO] Done loading:\", timer())"
   ]
  },
  {
   "cell_type": "code",
   "execution_count": null,
   "id": "e949eb87",
   "metadata": {},
   "outputs": [],
   "source": [
    "def contains_any(text, keywords):\n",
    "    text = str(text).lower()\n",
    "    return any(k in text for k in keywords)\n",
    "\n",
    "def find_nodes_by_name(df, keywords):\n",
    "    # Returns unique node names from x_name and y_name that contain any of the keywords\n",
    "    mask_x = df['x_name'].str.lower().apply(lambda t: contains_any(t, keywords))\n",
    "    mask_y = df['y_name'].str.lower().apply(lambda t: contains_any(t, keywords))\n",
    "    nodes = set(df.loc[mask_x, 'x_name']).union(set(df.loc[mask_y, 'y_name']))\n",
    "    return sorted(nodes)\n",
    "\n",
    "def rows_touching_keywords(df, keywords):\n",
    "    return df[\n",
    "        df['x_name'].str.lower().apply(lambda t: contains_any(t, keywords)) |\n",
    "        df['y_name'].str.lower().apply(lambda t: contains_any(t, keywords))\n",
    "    ]"
   ]
  },
  {
   "cell_type": "code",
   "execution_count": null,
   "id": "7a73f7a4",
   "metadata": {},
   "outputs": [],
   "source": [
    "covid_nodes = find_nodes_by_name(kg, DISEASE_KEYWORDS)\n",
    "baricitinib_nodes = find_nodes_by_name(kg, [TARGET_DRUG])\n",
    "\n",
    "print(f\"[INFO] Candidate COVID-19 nodes found: {len(covid_nodes)}\")\n",
    "print(covid_nodes[:10])\n",
    "print(f\"[INFO] Candidate Baricitinib nodes found: {len(baricitinib_nodes)}\")\n",
    "print(baricitinib_nodes)"
   ]
  },
  {
   "cell_type": "code",
   "execution_count": null,
   "id": "4c5e8b4f",
   "metadata": {},
   "outputs": [],
   "source": [
    "print(\"[INFO] Building graph...\")\n",
    "G = nx.from_pandas_edgelist(kg, source=\"x_name\", target=\"y_name\", edge_attr=True)\n",
    "print(f\"[INFO] Graph built with {G.number_of_nodes():,} nodes and {G.number_of_edges():,} edges.\")"
   ]
  },
  {
   "cell_type": "code",
   "execution_count": null,
   "id": "a4be7efd",
   "metadata": {},
   "outputs": [],
   "source": [
    "def shortest_path_between_sets(G, sources, targets, cutoff=None):\n",
    "    best = None\n",
    "    best_pair = (None, None)\n",
    "    for s in sources:\n",
    "        if s not in G: \n",
    "            continue\n",
    "        for t in targets:\n",
    "            if t not in G: \n",
    "                continue\n",
    "            try:\n",
    "                sp = nx.shortest_path(G, s, t, cutoff=cutoff)\n",
    "                if best is None or len(sp) < len(best):\n",
    "                    best = sp\n",
    "                    best_pair = (s, t)\n",
    "            except nx.NetworkXNoPath:\n",
    "                continue\n",
    "    return best, best_pair\n",
    "\n",
    "best_path, (best_covid, best_baricitinib) = shortest_path_between_sets(G, covid_nodes, baricitinib_nodes, cutoff=6)\n",
    "if best_path is None:\n",
    "    print(\"[WARN] No path found up to cutoff=6. Try increasing cutoff or broaden keywords.\")\n",
    "else:\n",
    "    print(\"[INFO] Best COVID-19 → Baricitinib path (length={}):\".format(len(best_path)-1))\n",
    "    for i, node in enumerate(best_path):\n",
    "        print(f\"  {i}. {node}\")"
   ]
  },
  {
   "cell_type": "code",
   "execution_count": null,
   "id": "35684e7b",
   "metadata": {},
   "outputs": [],
   "source": [
    "if best_path is not None:\n",
    "    core_nodes = set(best_path)\n",
    "    # Expand around the endpoints for context\n",
    "    if best_covid in G:\n",
    "        core_nodes.update(nx.ego_graph(G, best_covid, radius=EGO_RADIUS).nodes())\n",
    "    if best_baricitinib in G:\n",
    "        core_nodes.update(nx.ego_graph(G, best_baricitinib, radius=EGO_RADIUS).nodes())\n",
    "    H = G.subgraph(core_nodes).copy()\n",
    "    print(f\"[INFO] Focused subgraph: {H.number_of_nodes()} nodes, {H.number_of_edges()} edges.\")\n",
    "else:\n",
    "    H = nx.Graph()\n"
   ]
  },
  {
   "cell_type": "code",
   "execution_count": null,
   "id": "50b666a4",
   "metadata": {},
   "outputs": [],
   "source": [
    "def guess_type(name: str):\n",
    "    # Very rough heuristic using tokens seen in PrimeKG names/types.\n",
    "    n = str(name).lower()\n",
    "    if \"covid\" in n or \"sars-cov-2\" in n or \"disease\" in n:\n",
    "        return \"disease\"\n",
    "    if \"pathway\" in n or \"reactome\" in n:\n",
    "        return \"pathway\"\n",
    "    if \"protein\" in n or \"gene\" in n:\n",
    "        return \"protein\"\n",
    "    if \"drug\" in n or \"db0\" in n or \"baricitinib\" in n:\n",
    "        return \"drug\"\n",
    "    return \"other\"\n",
    "\n",
    "if H.number_of_nodes() > 0:\n",
    "    node_type_counts = Counter(guess_type(n) for n in H.nodes())\n",
    "    print(\"[INFO] Node type distribution in focused subgraph:\")\n",
    "    for k, v in node_type_counts.items():\n",
    "        print(f\"  {k}: {v}\")\n",
    "\n",
    "    # Inspect for key proteins frequently mentioned for Baricitinib mechanism\n",
    "    key_proteins = [\"AAK1\", \"GAK\", \"JAK1\", \"JAK2\"]\n",
    "    present = [p for p in key_proteins if any(p.lower() in str(n).lower() for n in H.nodes())]\n",
    "    print(\"\\n[INFO] Key proteins present among nodes:\", present)\n",
    "else:\n",
    "    print(\"[INFO] No focused subgraph constructed.\")"
   ]
  },
  {
   "cell_type": "code",
   "execution_count": null,
   "id": "10cce196",
   "metadata": {},
   "outputs": [],
   "source": [
    "if H.number_of_nodes() > 0:\n",
    "    plt.figure(figsize=(11,9))\n",
    "    pos = nx.spring_layout(H, k=0.35, seed=RANDOM_SEED)\n",
    "    nx.draw_networkx_nodes(H, pos, node_size=55)\n",
    "    nx.draw_networkx_edges(H, pos, alpha=0.25)\n",
    "    nx.draw_networkx_labels(H, pos, font_size=6)\n",
    "    plt.title(\"COVID‑19 → Baricitinib focused subgraph (ego radius = {})\".format(EGO_RADIUS))\n",
    "    plt.axis(\"off\")\n",
    "    plt.show()"
   ]
  },
  {
   "cell_type": "code",
   "execution_count": null,
   "id": "b5f41c65",
   "metadata": {},
   "outputs": [],
   "source": [
    "covid_edges = rows_touching_keywords(kg, DISEASE_KEYWORDS)\n",
    "bari_edges = rows_touching_keywords(kg, [TARGET_DRUG])\n",
    "\n",
    "print(\"[INFO] Sample COVID‑19-related edges:\")\n",
    "display(covid_edges[['x_name','x_type','relation','y_name','y_type']].head(15))\n",
    "\n",
    "print(\"\\n[INFO] Sample Baricitinib-related edges:\")\n",
    "display(bari_edges[['x_name','x_type','relation','y_name','y_type']].head(15))"
   ]
  },
  {
   "cell_type": "markdown",
   "id": "a2f90df8",
   "metadata": {},
   "source": [
    "### Optional: mini permutation test\n",
    "\n",
    "This approximates the paper’s proximity analysis by comparing the shortest-path distance between **COVID‑19** and **Baricitinib** to distances between **Baricitinib** and random **non‑COVID diseases**.\n"
   ]
  },
  {
   "cell_type": "code",
   "execution_count": null,
   "id": "22897ec5",
   "metadata": {},
   "outputs": [],
   "source": [
    "# Identify candidate disease nodes by heuristic from names touching 'disease' or ontology terms in types if present.\n",
    "disease_like = set()\n",
    "for col_name, col_type in [('x_name','x_type'), ('y_name','y_type')]:\n",
    "    if 'x_type' in kg.columns and 'y_type' in kg.columns:\n",
    "        mask = kg[col_type].str.lower().str.contains('disease', na=False)\n",
    "        disease_like.update(kg.loc[mask, col_name].astype(str).tolist())\n",
    "# Fallback: names that contain 'disease' if types aren't reliable\n",
    "if not disease_like:\n",
    "    for col in ['x_name','y_name']:\n",
    "        disease_like.update(kg[col].astype(str).str.lower().str.contains('disease', na=False).replace({False: None}).dropna().index.tolist())\n",
    "\n",
    "disease_like = list(disease_like)\n",
    "print(f\"[INFO] Candidate disease nodes (by heuristic): {len(disease_like):,}\")\n",
    "\n",
    "if best_path is not None and disease_like:\n",
    "    # Exclude COVID-ish nodes from random sampling\n",
    "    exclude = set(n for n in disease_like if any(k in str(n).lower() for k in DISEASE_KEYWORDS))\n",
    "    pool = [n for n in disease_like if n not in exclude and n in G]\n",
    "    sample = random.sample(pool, min(N_RANDOM, len(pool))) if pool else []\n",
    "\n",
    "    def sp_len(u, v):\n",
    "        try:\n",
    "            return len(nx.shortest_path(G, u, v)) - 1\n",
    "        except nx.NetworkXNoPath:\n",
    "            return np.inf\n",
    "\n",
    "    observed = sp_len(best_covid, best_baricitinib) if best_path is not None else np.inf\n",
    "    rnd = [sp_len(n, best_baricitinib) for n in sample]\n",
    "    rnd_finite = [x for x in rnd if np.isfinite(x)]\n",
    "\n",
    "    print(f\"[INFO] Observed shortest-path length (COVID → Baricitinib): {observed}\")\n",
    "    if rnd_finite:\n",
    "        print(f\"[INFO] Random diseases — mean ± std (finite only): {np.mean(rnd_finite):.2f} ± {np.std(rnd_finite):.2f} (n={len(rnd_finite)})\")\n",
    "        frac_better = np.mean([observed <= x for x in rnd_finite])\n",
    "        print(f\"[INFO] Fraction of random >= observed (1-sided): {frac_better:.3f}\")\n",
    "    else:\n",
    "        print(\"[INFO] No finite random distances found (graph may be disconnected or sampling too small).\")\n",
    "else:\n",
    "    print(\"[INFO] Skipping permutation test (no path or no disease pool).\")"
   ]
  },
  {
   "cell_type": "markdown",
   "id": "3fb39196",
   "metadata": {},
   "source": [
    "---\n",
    "\n",
    "## Next Steps\n",
    "- Verify specific protein nodes (e.g., **AAK1, GAK, JAK1, JAK2**) and **Reactome** pathways in your graph.\n",
    "- Increase `cutoff` in path search or `EGO_RADIUS` to reveal more mechanism context.\n",
    "- Expand permutation test (e.g., `N_RANDOM=1000`) once performance is acceptable on your machine.\n",
    "- Compare with other candidate JAK inhibitors to contextualize Baricitinib.\n",
    "\n"
   ]
  }
 ],
 "metadata": {
  "kernelspec": {
   "display_name": "Python 3 (ipykernel)",
   "language": "python",
   "name": "python3"
  },
  "language_info": {
   "codemirror_mode": {
    "name": "ipython",
    "version": 3
   },
   "file_extension": ".py",
   "mimetype": "text/x-python",
   "name": "python",
   "nbconvert_exporter": "python",
   "pygments_lexer": "ipython3",
   "version": "3.13.3"
  }
 },
 "nbformat": 4,
 "nbformat_minor": 5
}
